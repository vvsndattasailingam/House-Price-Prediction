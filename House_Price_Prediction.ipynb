{
 "cells": [
  {
   "cell_type": "markdown",
   "id": "685e3f4b",
   "metadata": {},
   "source": [
    "\n",
    "# House Price Prediction\n",
    "\n",
    "## Overview\n",
    "This project was developed as part of the **Large Scale Data Processing** coursework. It aims to predict house prices based on various attributes such as location, area, build year, and other features. The dataset is processed using Hadoop and analyzed using regression models like Ridge, Lasso, and Elastic Net.\n",
    "\n",
    "## Objectives\n",
    "1. Simulate dataset loading and processing using Hadoop.\n",
    "2. Perform data preprocessing, including handling missing values and feature normalization.\n",
    "3. Conduct exploratory data analysis (EDA) for data insights.\n",
    "4. Implement regression models for predicting house prices.\n",
    "5. Compare model performance using evaluation metrics like R-squared, RMSE, and MAE.\n",
    "\n",
    "---\n"
   ]
  },
  {
   "cell_type": "markdown",
   "id": "05bee851",
   "metadata": {},
   "source": [
    "\n",
    "## Hadoop Integration\n",
    "\n",
    "The dataset is loaded into the Hadoop Distributed File System (HDFS) for efficient processing and scalability. While this notebook simulates the process, the actual implementation was executed on a Hadoop cluster.\n"
   ]
  },
  {
   "cell_type": "code",
   "execution_count": null,
   "id": "64a30aae",
   "metadata": {},
   "outputs": [],
   "source": [
    "\n",
    "# Simulate Hadoop dataset upload\n",
    "print(\"Simulating Hadoop commands for dataset upload...\")\n",
    "# Command example (executed in actual Hadoop environment):\n",
    "# hadoop fs -put train.csv /user/house-prices/train.csv\n",
    "# hadoop fs -put test.csv /user/house-prices/test.csv\n",
    "print(\"Dataset successfully uploaded to HDFS (simulation).\")\n"
   ]
  },
  {
   "cell_type": "markdown",
   "id": "fef4f204",
   "metadata": {},
   "source": [
    "\n",
    "## Data Preprocessing\n",
    "\n",
    "Data preprocessing includes:\n",
    "- Handling missing values.\n",
    "- Normalizing features.\n",
    "- Encoding categorical variables.\n"
   ]
  },
  {
   "cell_type": "code",
   "execution_count": null,
   "id": "50b335fc",
   "metadata": {},
   "outputs": [],
   "source": [
    "\n",
    "import pandas as pd\n",
    "from sklearn.model_selection import train_test_split\n",
    "from sklearn.preprocessing import StandardScaler\n",
    "\n",
    "# Load datasets\n",
    "train_data = pd.read_csv('train.csv')\n",
    "test_data = pd.read_csv('test.csv')\n",
    "\n",
    "# Handle missing values\n",
    "train_data.fillna(train_data.mean(), inplace=True)\n",
    "test_data.fillna(test_data.mean(), inplace=True)\n",
    "\n",
    "# Feature normalization\n",
    "scaler = StandardScaler()\n",
    "numerical_features = train_data.select_dtypes(include=['float64', 'int64']).columns\n",
    "train_data[numerical_features] = scaler.fit_transform(train_data[numerical_features])\n",
    "test_data[numerical_features] = scaler.transform(test_data[numerical_features])\n",
    "\n",
    "# Split train data into features and target\n",
    "X = train_data.drop(['SalePrice'], axis=1)\n",
    "y = train_data['SalePrice']\n",
    "X_train, X_test, y_train, y_test = train_test_split(X, y, test_size=0.2, random_state=42)\n"
   ]
  },
  {
   "cell_type": "markdown",
   "id": "c4fc6042",
   "metadata": {},
   "source": [
    "\n",
    "## Exploratory Data Analysis (EDA)\n",
    "\n",
    "Performing EDA to visualize relationships and gain insights into the dataset.\n"
   ]
  },
  {
   "cell_type": "code",
   "execution_count": null,
   "id": "cb642c2a",
   "metadata": {},
   "outputs": [],
   "source": [
    "\n",
    "import matplotlib.pyplot as plt\n",
    "import seaborn as sns\n",
    "\n",
    "# Visualize target variable\n",
    "sns.histplot(train_data['SalePrice'], kde=True)\n",
    "plt.title('Distribution of Sale Prices')\n",
    "plt.show()\n",
    "\n",
    "# Correlation heatmap\n",
    "correlation_matrix = train_data.corr()\n",
    "plt.figure(figsize=(10, 8))\n",
    "sns.heatmap(correlation_matrix, annot=False, cmap='coolwarm')\n",
    "plt.title('Correlation Heatmap')\n",
    "plt.show()\n"
   ]
  },
  {
   "cell_type": "markdown",
   "id": "e36bb94c",
   "metadata": {},
   "source": [
    "\n",
    "## Regression Models\n",
    "\n",
    "We implement and evaluate the following regression models:\n",
    "1. Ridge Regression\n",
    "2. Lasso Regression\n",
    "3. Elastic Net Regression\n"
   ]
  },
  {
   "cell_type": "code",
   "execution_count": null,
   "id": "6f2838eb",
   "metadata": {},
   "outputs": [],
   "source": [
    "\n",
    "from sklearn.linear_model import Ridge\n",
    "from sklearn.metrics import mean_squared_error, r2_score\n",
    "\n",
    "# Ridge Regression\n",
    "ridge_model = Ridge(alpha=1.0)\n",
    "ridge_model.fit(X_train, y_train)\n",
    "ridge_predictions = ridge_model.predict(X_test)\n",
    "\n",
    "# Evaluation\n",
    "ridge_rmse = mean_squared_error(y_test, ridge_predictions, squared=False)\n",
    "ridge_r2 = r2_score(y_test, ridge_predictions)\n",
    "print(f\"Ridge Regression RMSE: {ridge_rmse}, R2: {ridge_r2}\")\n"
   ]
  },
  {
   "cell_type": "code",
   "execution_count": null,
   "id": "eeeba8f3",
   "metadata": {},
   "outputs": [],
   "source": [
    "\n",
    "from sklearn.linear_model import Lasso\n",
    "\n",
    "# Lasso Regression\n",
    "lasso_model = Lasso(alpha=0.1)\n",
    "lasso_model.fit(X_train, y_train)\n",
    "lasso_predictions = lasso_model.predict(X_test)\n",
    "\n",
    "# Evaluation\n",
    "lasso_rmse = mean_squared_error(y_test, lasso_predictions, squared=False)\n",
    "lasso_r2 = r2_score(y_test, lasso_predictions)\n",
    "print(f\"Lasso Regression RMSE: {lasso_rmse}, R2: {lasso_r2}\")\n"
   ]
  },
  {
   "cell_type": "code",
   "execution_count": null,
   "id": "f9888016",
   "metadata": {},
   "outputs": [],
   "source": [
    "\n",
    "from sklearn.linear_model import ElasticNet\n",
    "\n",
    "# Elastic Net Regression\n",
    "elastic_net_model = ElasticNet(alpha=0.1, l1_ratio=0.5)\n",
    "elastic_net_model.fit(X_train, y_train)\n",
    "elastic_net_predictions = elastic_net_model.predict(X_test)\n",
    "\n",
    "# Evaluation\n",
    "elastic_net_rmse = mean_squared_error(y_test, elastic_net_predictions, squared=False)\n",
    "elastic_net_r2 = r2_score(y_test, elastic_net_predictions)\n",
    "print(f\"Elastic Net RMSE: {elastic_net_rmse}, R2: {elastic_net_r2}\")\n"
   ]
  },
  {
   "cell_type": "markdown",
   "id": "421b6590",
   "metadata": {},
   "source": [
    "\n",
    "## Conclusion\n",
    "\n",
    "The project demonstrated the application of regression models for predicting house prices. Among the models:\n",
    "- Ridge Regression achieved RMSE: {ridge_rmse}, R2: {ridge_r2}\n",
    "- Lasso Regression achieved RMSE: {lasso_rmse}, R2: {lasso_r2}\n",
    "- Elastic Net Regression achieved RMSE: {elastic_net_rmse}, R2: {elastic_net_r2}\n",
    "\n",
    "This project highlights the importance of data preprocessing, model selection, and performance evaluation in real-world scenarios.\n"
   ]
  }
 ],
 "metadata": {},
 "nbformat": 4,
 "nbformat_minor": 5
}
